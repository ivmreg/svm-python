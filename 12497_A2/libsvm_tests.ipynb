{
 "cells": [
  {
   "cell_type": "code",
   "execution_count": 1,
   "metadata": {
    "collapsed": true
   },
   "outputs": [],
   "source": [
    "import subprocess\n",
    "import pprint\n",
    "import re\n",
    "import time"
   ]
  },
  {
   "cell_type": "markdown",
   "metadata": {},
   "source": [
    "First, we will learn the parameters (here, C) for testing the models\n",
    "\n",
    "**Note:** \n",
    "* Scaled as well as unscaled models are saved in the relevant folder \n",
    "* 5 fold cross validation used"
   ]
  },
  {
   "cell_type": "markdown",
   "metadata": {},
   "source": [
    "First we train the linear kernels"
   ]
  },
  {
   "cell_type": "code",
   "execution_count": 2,
   "metadata": {
    "collapsed": false
   },
   "outputs": [],
   "source": [
    "#coarse tuning param\n",
    "\n",
    "poss_c_cor = [2 ** -8, 2 ** -6, 2 ** -4, 2 ** -2, 2 ** 0, 2 ** 2, 2 ** 4]\n",
    "datasets = [\"../../../data/train/leu\",\n",
    "            \"../../../data/train/leu.scale\",\n",
    "            \"../../../data/train/rcv1_train.red\",\n",
    "            \"../../../data/train/rcv1_train.red.scale\",\n",
    "            \"../../../data/train/covtype_train.red.scale\"]\n",
    "\n",
    "coarse_acc = {}\n",
    "times = {}\n",
    "for dataset in datasets:\n",
    "    loc_acc_c = {}\n",
    "    start = time.time()\n",
    "    for c in poss_c_cor:\n",
    "            cmd_cross_valid = [\"../svm-train\",\"-t\", \"0\", \"-h\", \"0\", \"-v\", str(5),  \"-c\", str(c), \"-q\", dataset]\n",
    "            pred_acc = subprocess.check_output(cmd_cross_valid)\n",
    "            loc_acc_c[c] = pred_acc\n",
    "    coarse_acc[dataset] = (loc_acc_c)\n",
    "    times[dataset] = time.time() - start"
   ]
  },
  {
   "cell_type": "code",
   "execution_count": 3,
   "metadata": {
    "collapsed": false
   },
   "outputs": [
    {
     "name": "stdout",
     "output_type": "stream",
     "text": [
      "{   '../../../data/train/covtype_train.red.scale': {   0.00390625: '58.5',\n",
      "                                                       0.015625: '58.5',\n",
      "                                                       0.0625: '65.1',\n",
      "                                                       0.25: '66.3',\n",
      "                                                       1: '67.5',\n",
      "                                                       4: '70.7',\n",
      "                                                       16: '70.6'},\n",
      "    '../../../data/train/leu': {   0.00390625: '94.7368',\n",
      "                                   0.015625: '94.7368',\n",
      "                                   0.0625: '94.7368',\n",
      "                                   0.25: '94.7368',\n",
      "                                   1: '94.7368',\n",
      "                                   4: '94.7368',\n",
      "                                   16: '94.7368'},\n",
      "    '../../../data/train/leu.scale': {   0.00390625: '94.7368',\n",
      "                                         0.015625: '94.7368',\n",
      "                                         0.0625: '94.7368',\n",
      "                                         0.25: '94.7368',\n",
      "                                         1: '94.7368',\n",
      "                                         4: '94.7368',\n",
      "                                         16: '94.7368'},\n",
      "    '../../../data/train/rcv1_train.red': {   0.00390625: '65',\n",
      "                                              0.015625: '65',\n",
      "                                              0.0625: '65',\n",
      "                                              0.25: '65.75',\n",
      "                                              1: '89.5',\n",
      "                                              4: '91.75',\n",
      "                                              16: '91.75'},\n",
      "    '../../../data/train/rcv1_train.red.scale': {   0.00390625: '65',\n",
      "                                                    0.015625: '65.5',\n",
      "                                                    0.0625: '89.5',\n",
      "                                                    0.25: '90.5',\n",
      "                                                    1: '90.75',\n",
      "                                                    4: '90.75',\n",
      "                                                    16: '90.75'}}\n",
      "{   '../../../data/train/covtype_train.red.scale': 1.3052020072937012,\n",
      "    '../../../data/train/leu': 1.1041510105133057,\n",
      "    '../../../data/train/leu.scale': 1.1961758136749268,\n",
      "    '../../../data/train/rcv1_train.red': 3.1451220512390137,\n",
      "    '../../../data/train/rcv1_train.red.scale': 3.0486199855804443}\n"
     ]
    }
   ],
   "source": [
    "for key, value in coarse_acc.iteritems():\n",
    "    temp = value\n",
    "    for k, acc in temp.iteritems():\n",
    "        temp[k] = re.findall(\"[-+]?\\d+[\\.]?\\d*\", acc)[0]\n",
    "pp = pprint.PrettyPrinter(indent=4)\n",
    "pp.pprint(coarse_acc)\n",
    "pp.pprint(times)"
   ]
  },
  {
   "cell_type": "code",
   "execution_count": 4,
   "metadata": {
    "collapsed": false
   },
   "outputs": [],
   "source": [
    "fine_tuning_c = {\"../../../data/train/rcv1_train.red\":[0.25,1],\n",
    "                 \"../../../data/train/rcv1_train.red.scale\": [0.25,1],\n",
    "                 \"../../../data/train/covtype_train.red.scale\": [1, 4]\n",
    "                 }\n",
    "fine_acc = {}\n",
    "for dataset , val in fine_tuning_c.iteritems():\n",
    "    a = val[0]*2\n",
    "    req_ran = []\n",
    "    while a < val[1]:\n",
    "        req_ran.append(a)\n",
    "        a*=2\n",
    "    loc_acc_c = {}\n",
    "    for c in req_ran:\n",
    "            cmd_cross_valid = [\"../svm-train\",\"-t\", \"0\", \"-h\", \"0\", \"-v\", str(5),  \"-c\", str(c), \"-q\", dataset]\n",
    "            pred_acc = subprocess.check_output(cmd_cross_valid)\n",
    "            loc_acc_c[c] = pred_acc\n",
    "    fine_acc[dataset] = (loc_acc_c)         "
   ]
  },
  {
   "cell_type": "code",
   "execution_count": 5,
   "metadata": {
    "collapsed": false
   },
   "outputs": [
    {
     "name": "stdout",
     "output_type": "stream",
     "text": [
      "{   '../../../data/train/covtype_train.red.scale': {   2: '70.4'},\n",
      "    '../../../data/train/rcv1_train.red': {   0.5: '86'},\n",
      "    '../../../data/train/rcv1_train.red.scale': {   0.5: '90.75'}}\n"
     ]
    }
   ],
   "source": [
    "for key, value in fine_acc.iteritems():\n",
    "    temp = value\n",
    "    for k, acc in temp.iteritems():\n",
    "        temp[k] = re.findall(\"[-+]?\\d+[\\.]?\\d*\", acc)[0]\n",
    "\n",
    "pp.pprint(fine_acc)"
   ]
  },
  {
   "cell_type": "markdown",
   "metadata": {},
   "source": [
    "With the coarse and fine tuning, we have learnt c, now we test"
   ]
  },
  {
   "cell_type": "code",
   "execution_count": 6,
   "metadata": {
    "collapsed": true
   },
   "outputs": [],
   "source": [
    "chosen_c = {\"../../../data/train/leu\": 0.25,\n",
    "            \"../../../data/train/leu.scale\": 0.25,\n",
    "            \"../../../data/train/rcv1_train.red\": 1,\n",
    "            \"../../../data/train/rcv1_train.red.scale\": 0.625 , #average of values at max\n",
    "            \"../../../data/train/covtype_train.red.scale\": 1\n",
    "            }"
   ]
  },
  {
   "cell_type": "markdown",
   "metadata": {},
   "source": [
    "With these parameters, we build models"
   ]
  },
  {
   "cell_type": "code",
   "execution_count": 7,
   "metadata": {
    "collapsed": false,
    "scrolled": true
   },
   "outputs": [
    {
     "name": "stdout",
     "output_type": "stream",
     "text": [
      "['', '', '', '', '']\n",
      "[   'linear/covtype_train.red.scale.lin.model',\n",
      "    'linear/rcv1_train.red.lin.model',\n",
      "    'linear/leu.lin.model',\n",
      "    'linear/rcv1_train.red.scale.lin.model',\n",
      "    'linear/leu.scale.lin.model']\n"
     ]
    }
   ],
   "source": [
    "models = []\n",
    "results = []\n",
    "for dataset , val in chosen_c.iteritems():\n",
    "    model_name = dataset.split(\"/\")\n",
    "    model_name = \"linear/\" + model_name[len(model_name)-1] + \".lin.model\"\n",
    "    cmd_cross_valid = [\"../svm-train\",\"-t\", \"0\", \"-h\", \"0\", \"-c\", str(val), \"-q\", dataset, model_name]\n",
    "    res = subprocess.check_output(cmd_cross_valid)\n",
    "    results.append(res)\n",
    "    models.append(model_name)\n",
    "    \n",
    "pp.pprint(results)\n",
    "pp.pprint(models)"
   ]
  },
  {
   "cell_type": "markdown",
   "metadata": {},
   "source": [
    "Now we run test with these models"
   ]
  },
  {
   "cell_type": "code",
   "execution_count": 8,
   "metadata": {
    "collapsed": false
   },
   "outputs": [
    {
     "name": "stdout",
     "output_type": "stream",
     "text": [
      "{   '../../../data/test/covtype_test.red.scaled': 'Accuracy = 19.7991% (690/3485) (classification)\\n',\n",
      "    '../../../data/test/leu.t': 'Accuracy = 82.3529% (28/34) (classification)\\n',\n",
      "    '../../../data/test/leu.t.scale': 'Accuracy = 88.2353% (30/34) (classification)\\n',\n",
      "    '../../../data/test/rcv1_test.red': 'Accuracy = 77.5646% (930/1199) (classification)\\n',\n",
      "    '../../../data/test/rcv1_test.red.scale': 'Accuracy = 77.648% (931/1199) (classification)\\n'}\n"
     ]
    }
   ],
   "source": [
    "model_test_map = {  \"../../../data/test/leu.t\": 'linear/leu.lin.model',\n",
    "                    \"../../../data/test/leu.t.scale\": 'linear/leu.scale.lin.model',\n",
    "                    \"../../../data/test/rcv1_test.red\": 'linear/rcv1_train.red.lin.model',\n",
    "                    \"../../../data/test/rcv1_test.red.scale\": 'linear/rcv1_train.red.scale.lin.model',\n",
    "                    \"../../../data/test/covtype_test.red.scaled\": 'linear/covtype_train.red.scaled.lin.model'\n",
    "                    }\n",
    "\n",
    "predictions_acc = {}\n",
    "for testfile, modelfile in model_test_map.iteritems():\n",
    "    out_name = testfile.split(\"/\")\n",
    "    out_name = \"outs/linear/\" + out_name[len(out_name)-1] + \".out\"\n",
    "    cmd_pred= [\"../svm-predict\", testfile, modelfile, out_name]\n",
    "    res = subprocess.check_output(cmd_pred)\n",
    "    predictions_acc[testfile] = res\n",
    "    \n",
    "pp.pprint(predictions_acc)"
   ]
  },
  {
   "cell_type": "markdown",
   "metadata": {},
   "source": [
    "**These are the final model results for linear svm**"
   ]
  },
  {
   "cell_type": "markdown",
   "metadata": {},
   "source": [
    "---\n",
    "Now we train polynomial kernel, degree 2"
   ]
  },
  {
   "cell_type": "code",
   "execution_count": 11,
   "metadata": {
    "collapsed": false,
    "scrolled": true
   },
   "outputs": [
    {
     "name": "stdout",
     "output_type": "stream",
     "text": [
      "currently done  ../../../data/train/leu\n",
      "currently done  ../../../data/train/leu.scale\n",
      "currently done  ../../../data/train/rcv1_train.red\n",
      "currently done  ../../../data/train/rcv1_train.red.scale\n",
      "currently done  ../../../data/train/covtype_train.red.scale\n"
     ]
    }
   ],
   "source": [
    "#coarse tuning param\n",
    "\n",
    "poss_c_cor = [2 ** -8, 2 ** -4, 2 ** 0, 2 ** 2]\n",
    "poss_gamma_cor = [2 ** -8, 2 ** -4, 2 ** 0, 2 ** 2]\n",
    "poss_coeff = [2 ** -8, 2 ** -4, 2 ** 0, 2 ** 2]\n",
    "datasets = [\"../../../data/train/leu\",\n",
    "            \"../../../data/train/leu.scale\",\n",
    "            \"../../../data/train/rcv1_train.red\",\n",
    "            \"../../../data/train/rcv1_train.red.scale\",\n",
    "            \"../../../data/train/covtype_train.red.scale\"]\n",
    "\n",
    "coarse_acc = {}\n",
    "times = {}\n",
    "for dataset in datasets:\n",
    "    loc_acc_c_g = {}\n",
    "    start = time.time()\n",
    "    for c in poss_c_cor:\n",
    "        for g in poss_gamma_cor:\n",
    "            for coeff in poss_coeff:\n",
    "                cmd_cross_valid = [\"../svm-train\",\"-t\", \"1\", \"-h\", \"0\", \"-v\", str(5),\"-d\", str(2),  \"-c\", str(c), \"-g\", str(g), \"-r\", str(coeff), \"-q\", dataset]\n",
    "                pred_acc = subprocess.check_output(cmd_cross_valid)\n",
    "                loc_acc_c_g[(c,g,coeff)] = re.findall(\"[-+]?\\d+[\\.]?\\d*\", pred_acc)[0]\n",
    "    print \"currently done \", dataset\n",
    "    coarse_acc[dataset] = (loc_acc_c_g)\n",
    "    times[dataset] = time.time() - start"
   ]
  },
  {
   "cell_type": "code",
   "execution_count": 24,
   "metadata": {
    "collapsed": true
   },
   "outputs": [
    {
     "name": "stdout",
     "output_type": "stream",
     "text": [
      "{   '../../../data/train/covtype_train.red.scale': 290.08423614501953,\n",
      "    '../../../data/train/leu': 16.886574029922485,\n",
      "    '../../../data/train/leu.scale': 17.03380799293518,\n",
      "    '../../../data/train/rcv1_train.red': 41.516451835632324,\n",
      "    '../../../data/train/rcv1_train.red.scale': 45.22681212425232}\n",
      "../../../data/train/covtype_train.red.scale\n",
      "((1, 4, 0.0625), '79.3')\n",
      "((1, 4, 0.00390625), '79.3')\n",
      "((1, 4, 1), '79.1')\n",
      "((1, 4, 4), '78.9')\n",
      "((4, 4, 0.0625), '77.9')\n",
      "((4, 4, 0.00390625), '77.9')\n",
      "((4, 4, 1), '77.8')\n",
      "((4, 4, 4), '77.7')\n",
      "((0.0625, 4, 4), '77.5')\n",
      "((4, 1, 1), '77.5')\n",
      "((4, 1, 4), '77.3')\n",
      "((0.0625, 4, 1), '76.9')\n",
      "((0.0625, 4, 0.0625), '76.8')\n",
      "((4, 1, 0.00390625), '76.8')\n",
      "((4, 1, 0.0625), '76.8')\n",
      "((0.0625, 4, 0.00390625), '76.8')\n",
      "((1, 1, 4), '75.9')\n",
      "((1, 1, 1), '75.6')\n",
      "((1, 1, 0.00390625), '74.9')\n",
      "((1, 1, 0.0625), '74.8')\n",
      "((0.00390625, 4, 4), '73.3')\n",
      "((0.00390625, 4, 1), '72.9')\n",
      "((0.00390625, 4, 0.00390625), '72.9')\n",
      "((0.00390625, 4, 0.0625), '72.8')\n",
      "((0.0625, 1, 1), '72.7')\n",
      "((0.0625, 1, 4), '72.3')\n",
      "((0.0625, 1, 0.00390625), '71.8')\n",
      "((4, 0.0625, 4), '71.8')\n",
      "((0.0625, 1, 0.0625), '71.7')\n",
      "((1, 0.0625, 4), '70.4')\n",
      "((0.00390625, 1, 4), '69.5')\n",
      "((4, 0.0625, 1), '69.1')\n",
      "((0.00390625, 1, 1), '66.4')\n",
      "((4, 0.00390625, 4), '66.4')\n",
      "((1, 0.0625, 1), '66.3')\n",
      "((1, 0.00390625, 4), '66.2')\n",
      "((0.0625, 0.0625, 4), '66.2')\n",
      "((0.00390625, 1, 0.0625), '66.2')\n",
      "((0.00390625, 1, 0.00390625), '66.2')\n",
      "((4, 0.0625, 0.0625), '65.6')\n",
      "((4, 0.00390625, 1), '65.1')\n",
      "((4, 0.0625, 0.00390625), '64.9')\n",
      "((1, 0.0625, 0.0625), '61.7')\n",
      "((0.0625, 0.0625, 1), '59.9')\n",
      "((1, 0.00390625, 0.00390625), '58.5')\n",
      "((1, 0.00390625, 1), '58.5')\n",
      "((0.00390625, 0.00390625, 4), '58.5')\n",
      "((0.0625, 0.00390625, 0.00390625), '58.5')\n",
      "((4, 0.00390625, 0.00390625), '58.5')\n",
      "((0.00390625, 0.0625, 0.00390625), '58.5')\n",
      "((1, 0.00390625, 0.0625), '58.5')\n",
      "((0.00390625, 0.0625, 4), '58.5')\n",
      "((0.0625, 0.00390625, 0.0625), '58.5')\n",
      "((1, 0.0625, 0.00390625), '58.5')\n",
      "((0.00390625, 0.00390625, 0.00390625), '58.5')\n",
      "((0.00390625, 0.0625, 1), '58.5')\n",
      "((0.0625, 0.00390625, 4), '58.5')\n",
      "((0.0625, 0.00390625, 1), '58.5')\n",
      "((0.00390625, 0.00390625, 0.0625), '58.5')\n",
      "((0.00390625, 0.0625, 0.0625), '58.5')\n",
      "((0.00390625, 0.00390625, 1), '58.5')\n",
      "((4, 0.00390625, 0.0625), '58.5')\n",
      "((0.0625, 0.0625, 0.00390625), '58.5')\n",
      "((0.0625, 0.0625, 0.0625), '58.5')\n",
      "../../../data/train/rcv1_train.red\n",
      "((1, 0.0625, 4), '91.75')\n",
      "((4, 0.0625, 4), '91.75')\n",
      "((0.0625, 1, 4), '90')\n",
      "((4, 1, 4), '90')\n",
      "((1, 1, 4), '90')\n",
      "((4, 0.00390625, 4), '89.25')\n",
      "((4, 0.0625, 1), '89')\n",
      "((0.00390625, 4, 4), '88.5')\n",
      "((1, 4, 4), '88.5')\n",
      "((4, 4, 4), '88.5')\n",
      "((0.0625, 4, 4), '88.5')\n",
      "((1, 1, 1), '88.5')\n",
      "((4, 1, 1), '88.5')\n",
      "((1, 4, 1), '80.5')\n",
      "((4, 4, 1), '80.5')\n",
      "((0.0625, 4, 1), '80.5')\n",
      "((4, 1, 0.0625), '72.5')\n",
      "((1, 1, 0.0625), '72.25')\n",
      "((4, 4, 0.0625), '71.25')\n",
      "((1, 4, 0.0625), '71.25')\n",
      "((0.0625, 4, 0.0625), '71.25')\n",
      "((4, 1, 0.00390625), '71.25')\n",
      "((1, 4, 0.00390625), '71')\n",
      "((4, 4, 0.00390625), '71')\n",
      "((0.0625, 4, 0.00390625), '71')\n",
      "((1, 1, 0.00390625), '69.25')\n",
      "((0.0625, 1, 1), '68')\n",
      "((0.00390625, 4, 1), '65.25')\n",
      "((0.00390625, 1, 1), '65')\n",
      "((1, 0.00390625, 0.00390625), '65')\n",
      "((4, 0.0625, 0.00390625), '65')\n",
      "((1, 0.00390625, 1), '65')\n",
      "((0.00390625, 0.00390625, 4), '65')\n",
      "((0.00390625, 1, 4), '65')\n",
      "((0.00390625, 4, 0.0625), '65')\n",
      "((0.0625, 0.00390625, 0.00390625), '65')\n",
      "((4, 0.00390625, 1), '65')\n",
      "((1, 0.00390625, 4), '65')\n",
      "((4, 0.00390625, 0.00390625), '65')\n",
      "((4, 0.0625, 0.0625), '65')\n",
      "((0.00390625, 0.0625, 0.00390625), '65')\n",
      "((1, 0.00390625, 0.0625), '65')\n",
      "((0.0625, 0.0625, 4), '65')\n",
      "((0.00390625, 0.0625, 4), '65')\n",
      "((0.0625, 0.00390625, 0.0625), '65')\n",
      "((1, 0.0625, 0.00390625), '65')\n",
      "((0.00390625, 0.00390625, 0.00390625), '65')\n",
      "((0.00390625, 0.0625, 1), '65')\n",
      "((0.0625, 0.00390625, 4), '65')\n",
      "((0.0625, 0.00390625, 1), '65')\n",
      "((0.00390625, 0.00390625, 0.0625), '65')\n",
      "((0.0625, 1, 0.00390625), '65')\n",
      "((1, 0.0625, 0.0625), '65')\n",
      "((0.00390625, 0.0625, 0.0625), '65')\n",
      "((0.00390625, 1, 0.0625), '65')\n",
      "((0.00390625, 0.00390625, 1), '65')\n",
      "((4, 0.00390625, 0.0625), '65')\n",
      "((0.0625, 0.0625, 1), '65')\n",
      "((1, 0.0625, 1), '65')\n",
      "((0.0625, 1, 0.0625), '65')\n",
      "((0.00390625, 4, 0.00390625), '65')\n",
      "((0.0625, 0.0625, 0.00390625), '65')\n",
      "((0.00390625, 1, 0.00390625), '65')\n",
      "((0.0625, 0.0625, 0.0625), '65')\n",
      "../../../data/train/leu\n",
      "((4, 0.00390625, 4), '76.3158')\n",
      "((0.00390625, 0.00390625, 4), '76.3158')\n",
      "((1, 0.00390625, 4), '76.3158')\n",
      "((0.0625, 0.00390625, 4), '76.3158')\n",
      "((4, 4, 0.0625), '73.6842')\n",
      "((0.00390625, 1, 1), '73.6842')\n",
      "((1, 4, 1), '73.6842')\n",
      "((4, 4, 1), '73.6842')\n",
      "((0.0625, 1, 4), '73.6842')\n",
      "((0.0625, 1, 1), '73.6842')\n",
      "((1, 0.00390625, 0.00390625), '73.6842')\n",
      "((0.00390625, 4, 4), '73.6842')\n",
      "((4, 0.0625, 0.00390625), '73.6842')\n",
      "((1, 0.00390625, 1), '73.6842')\n",
      "((1, 4, 0.0625), '73.6842')\n",
      "((0.00390625, 1, 4), '73.6842')\n",
      "((0.00390625, 4, 0.0625), '73.6842')\n",
      "((0.0625, 0.00390625, 0.00390625), '73.6842')\n",
      "((1, 4, 4), '73.6842')\n",
      "((1, 4, 0.00390625), '73.6842')\n",
      "((4, 0.00390625, 1), '73.6842')\n",
      "((4, 0.00390625, 0.00390625), '73.6842')\n",
      "((4, 0.0625, 0.0625), '73.6842')\n",
      "((1, 0.0625, 4), '73.6842')\n",
      "((0.00390625, 0.0625, 0.00390625), '73.6842')\n",
      "((4, 4, 4), '73.6842')\n",
      "((4, 4, 0.00390625), '73.6842')\n",
      "((1, 0.00390625, 0.0625), '73.6842')\n",
      "((4, 1, 4), '73.6842')\n",
      "((0.0625, 0.0625, 4), '73.6842')\n",
      "((0.00390625, 0.0625, 4), '73.6842')\n",
      "((0.0625, 0.00390625, 0.0625), '73.6842')\n",
      "((4, 0.0625, 1), '73.6842')\n",
      "((1, 0.0625, 0.00390625), '73.6842')\n",
      "((0.0625, 4, 4), '73.6842')\n",
      "((0.0625, 4, 0.0625), '73.6842')\n",
      "((1, 1, 0.0625), '73.6842')\n",
      "((0.00390625, 0.00390625, 0.00390625), '73.6842')\n",
      "((0.00390625, 0.0625, 1), '73.6842')\n",
      "((0.0625, 0.00390625, 1), '73.6842')\n",
      "((4, 1, 0.00390625), '73.6842')\n",
      "((4, 1, 0.0625), '73.6842')\n",
      "((0.00390625, 0.00390625, 0.0625), '73.6842')\n",
      "((0.0625, 1, 0.00390625), '73.6842')\n",
      "((1, 0.0625, 0.0625), '73.6842')\n",
      "((1, 1, 1), '73.6842')\n",
      "((0.0625, 4, 0.00390625), '73.6842')\n",
      "((0.00390625, 0.0625, 0.0625), '73.6842')\n",
      "((0.00390625, 1, 0.0625), '73.6842')\n",
      "((1, 1, 0.00390625), '73.6842')\n",
      "((0.00390625, 0.00390625, 1), '73.6842')\n",
      "((0.00390625, 4, 1), '73.6842')\n",
      "((4, 0.00390625, 0.0625), '73.6842')\n",
      "((0.0625, 0.0625, 1), '73.6842')\n",
      "((1, 0.0625, 1), '73.6842')\n",
      "((0.0625, 1, 0.0625), '73.6842')\n",
      "((0.00390625, 4, 0.00390625), '73.6842')\n",
      "((0.0625, 4, 1), '73.6842')\n",
      "((0.0625, 0.0625, 0.00390625), '73.6842')\n",
      "((4, 0.0625, 4), '73.6842')\n",
      "((0.00390625, 1, 0.00390625), '73.6842')\n",
      "((1, 1, 4), '73.6842')\n",
      "((0.0625, 0.0625, 0.0625), '73.6842')\n",
      "((4, 1, 1), '73.6842')\n",
      "../../../data/train/rcv1_train.red.scale\n",
      "((4, 0.00390625, 4), '90.75')\n",
      "((1, 0.00390625, 4), '90.5')\n",
      "((0.0625, 0.0625, 4), '90.5')\n",
      "((1, 0.0625, 4), '90.25')\n",
      "((4, 0.0625, 4), '90.25')\n",
      "((4, 0.0625, 1), '88.25')\n",
      "((1, 0.0625, 1), '88.25')\n",
      "((4, 0.00390625, 1), '85.5')\n",
      "((0.0625, 1, 4), '77.75')\n",
      "((0.00390625, 1, 4), '77.75')\n",
      "((4, 1, 4), '77.75')\n",
      "((1, 1, 4), '77.75')\n",
      "((0.00390625, 1, 1), '69.75')\n",
      "((0.0625, 1, 1), '69.75')\n",
      "((0.00390625, 4, 4), '69.75')\n",
      "((1, 4, 4), '69.75')\n",
      "((4, 4, 4), '69.75')\n",
      "((0.0625, 4, 4), '69.75')\n",
      "((1, 1, 1), '69.75')\n",
      "((4, 1, 1), '69.75')\n",
      "((1, 4, 1), '69.5')\n",
      "((4, 4, 1), '69.5')\n",
      "((0.00390625, 4, 1), '69.5')\n",
      "((0.0625, 4, 1), '69.5')\n",
      "((4, 4, 0.0625), '69.25')\n",
      "((1, 4, 0.0625), '69.25')\n",
      "((0.00390625, 4, 0.0625), '69.25')\n",
      "((1, 4, 0.00390625), '69.25')\n",
      "((4, 4, 0.00390625), '69.25')\n",
      "((0.0625, 4, 0.0625), '69.25')\n",
      "((1, 1, 0.0625), '69.25')\n",
      "((4, 1, 0.00390625), '69.25')\n",
      "((4, 1, 0.0625), '69.25')\n",
      "((0.0625, 1, 0.00390625), '69.25')\n",
      "((0.0625, 4, 0.00390625), '69.25')\n",
      "((1, 1, 0.00390625), '69.25')\n",
      "((0.0625, 1, 0.0625), '69.25')\n",
      "((0.00390625, 4, 0.00390625), '69.25')\n",
      "((4, 0.0625, 0.0625), '69')\n",
      "((0.00390625, 1, 0.0625), '68.75')\n",
      "((0.00390625, 1, 0.00390625), '68.75')\n",
      "((4, 0.0625, 0.00390625), '68.25')\n",
      "((1, 0.0625, 0.00390625), '66.25')\n",
      "((1, 0.0625, 0.0625), '66.25')\n",
      "((0.0625, 0.0625, 1), '66')\n",
      "((1, 0.00390625, 1), '65.5')\n",
      "((0.00390625, 0.0625, 4), '65.5')\n",
      "((0.0625, 0.0625, 0.00390625), '65.5')\n",
      "((0.0625, 0.0625, 0.0625), '65.5')\n",
      "((1, 0.00390625, 0.00390625), '65')\n",
      "((0.00390625, 0.00390625, 4), '65')\n",
      "((0.0625, 0.00390625, 0.00390625), '65')\n",
      "((4, 0.00390625, 0.00390625), '65')\n",
      "((0.00390625, 0.0625, 0.00390625), '65')\n",
      "((1, 0.00390625, 0.0625), '65')\n",
      "((0.0625, 0.00390625, 0.0625), '65')\n",
      "((0.00390625, 0.00390625, 0.00390625), '65')\n",
      "((0.00390625, 0.0625, 1), '65')\n",
      "((0.0625, 0.00390625, 4), '65')\n",
      "((0.0625, 0.00390625, 1), '65')\n",
      "((0.00390625, 0.00390625, 0.0625), '65')\n",
      "((0.00390625, 0.0625, 0.0625), '65')\n",
      "((0.00390625, 0.00390625, 1), '65')\n",
      "((4, 0.00390625, 0.0625), '65')\n",
      "../../../data/train/leu.scale\n",
      "((4, 4, 0.0625), '94.7368')\n",
      "((0.00390625, 1, 1), '94.7368')\n",
      "((1, 4, 1), '94.7368')\n",
      "((4, 4, 1), '94.7368')\n",
      "((0.0625, 1, 4), '94.7368')\n",
      "((0.0625, 1, 1), '94.7368')\n",
      "((1, 0.00390625, 0.00390625), '94.7368')\n",
      "((0.00390625, 4, 4), '94.7368')\n",
      "((4, 0.0625, 0.00390625), '94.7368')\n",
      "((1, 0.00390625, 1), '94.7368')\n",
      "((1, 4, 0.0625), '94.7368')\n",
      "((4, 0.00390625, 4), '94.7368')\n",
      "((0.00390625, 0.00390625, 4), '94.7368')\n",
      "((0.00390625, 1, 4), '94.7368')\n",
      "((0.00390625, 4, 0.0625), '94.7368')\n",
      "((0.0625, 0.00390625, 0.00390625), '94.7368')\n",
      "((1, 4, 4), '94.7368')\n",
      "((1, 4, 0.00390625), '94.7368')\n",
      "((4, 0.00390625, 1), '94.7368')\n",
      "((1, 0.00390625, 4), '94.7368')\n",
      "((4, 0.00390625, 0.00390625), '94.7368')\n",
      "((4, 0.0625, 0.0625), '94.7368')\n",
      "((1, 0.0625, 4), '94.7368')\n",
      "((0.00390625, 0.0625, 0.00390625), '94.7368')\n",
      "((4, 4, 4), '94.7368')\n",
      "((4, 4, 0.00390625), '94.7368')\n",
      "((1, 0.00390625, 0.0625), '94.7368')\n",
      "((4, 1, 4), '94.7368')\n",
      "((0.0625, 0.0625, 4), '94.7368')\n",
      "((0.00390625, 0.0625, 4), '94.7368')\n",
      "((0.0625, 0.00390625, 0.0625), '94.7368')\n",
      "((4, 0.0625, 1), '94.7368')\n",
      "((1, 0.0625, 0.00390625), '94.7368')\n",
      "((0.0625, 4, 4), '94.7368')\n",
      "((0.0625, 4, 0.0625), '94.7368')\n",
      "((1, 1, 0.0625), '94.7368')\n",
      "((0.00390625, 0.0625, 1), '94.7368')\n",
      "((0.0625, 0.00390625, 4), '94.7368')\n",
      "((0.0625, 0.00390625, 1), '94.7368')\n",
      "((4, 1, 0.00390625), '94.7368')\n",
      "((4, 1, 0.0625), '94.7368')\n",
      "((0.0625, 1, 0.00390625), '94.7368')\n",
      "((1, 0.0625, 0.0625), '94.7368')\n",
      "((1, 1, 1), '94.7368')\n",
      "((0.0625, 4, 0.00390625), '94.7368')\n",
      "((0.00390625, 0.0625, 0.0625), '94.7368')\n",
      "((0.00390625, 1, 0.0625), '94.7368')\n",
      "((1, 1, 0.00390625), '94.7368')\n",
      "((0.00390625, 4, 1), '94.7368')\n",
      "((4, 0.00390625, 0.0625), '94.7368')\n",
      "((0.0625, 0.0625, 1), '94.7368')\n",
      "((1, 0.0625, 1), '94.7368')\n",
      "((0.0625, 1, 0.0625), '94.7368')\n",
      "((0.00390625, 4, 0.00390625), '94.7368')\n",
      "((0.0625, 4, 1), '94.7368')\n",
      "((0.0625, 0.0625, 0.00390625), '94.7368')\n",
      "((4, 0.0625, 4), '94.7368')\n",
      "((0.00390625, 1, 0.00390625), '94.7368')\n",
      "((1, 1, 4), '94.7368')\n",
      "((0.0625, 0.0625, 0.0625), '94.7368')\n",
      "((4, 1, 1), '94.7368')\n",
      "((0.00390625, 0.00390625, 1), '92.1053')\n",
      "((0.00390625, 0.00390625, 0.00390625), '81.5789')\n",
      "((0.00390625, 0.00390625, 0.0625), '81.5789')\n"
     ]
    }
   ],
   "source": [
    "pp = pprint.PrettyPrinter(indent=4)\n",
    "pp.pprint(times)\n",
    "for key,value in coarse_acc.iteritems():\n",
    "    print key\n",
    "    for j in sorted(value.items(), key=lambda x:x[1], reverse=True):\n",
    "        print j"
   ]
  },
  {
   "cell_type": "code",
   "execution_count": 13,
   "metadata": {
    "collapsed": true
   },
   "outputs": [],
   "source": [
    "chosen_c_g = {\"../../../data/train/leu\": (1, 0.00390625, 1),\n",
    "            \"../../../data/train/leu.scale\": (1, 0.00390625, 1),\n",
    "            \"../../../data/train/rcv1_train.red\": (4, 0.0625, 4),\n",
    "            \"../../../data/train/rcv1_train.red.scale\": (1, 0.0625, 4), \n",
    "            \"../../../data/train/covtype_train.red.scale\": (4, 4, 4)\n",
    "            }\n"
   ]
  },
  {
   "cell_type": "code",
   "execution_count": 15,
   "metadata": {
    "collapsed": false
   },
   "outputs": [
    {
     "name": "stdout",
     "output_type": "stream",
     "text": [
      "['', '', '', '', '']\n",
      "[   'pol2/covtype_train.red.scale.pol2.model',\n",
      "    'pol2/rcv1_train.red.pol2.model',\n",
      "    'pol2/leu.pol2.model',\n",
      "    'pol2/rcv1_train.red.scale.pol2.model',\n",
      "    'pol2/leu.scale.pol2.model']\n"
     ]
    }
   ],
   "source": [
    "models = []\n",
    "results = []\n",
    "for dataset , val in chosen_c_g.iteritems():\n",
    "    model_name = dataset.split(\"/\")\n",
    "    model_name = \"pol2/\" + model_name[len(model_name)-1] + \".pol2.model\"\n",
    "    cmd_cross_valid = [\"../svm-train\",\"-t\", \"1\", \"-h\", \"0\", \"-c\", str(val[0]), \"-g\",str(val[1]), \"-d\" , str(2), \"-r\",str(val[2]), \"-q\", dataset, model_name]\n",
    "    res = subprocess.check_output(cmd_cross_valid)\n",
    "    results.append(res)\n",
    "    models.append(model_name)\n",
    "    \n",
    "pp.pprint(results)\n",
    "pp.pprint(models)"
   ]
  },
  {
   "cell_type": "code",
   "execution_count": 16,
   "metadata": {
    "collapsed": false
   },
   "outputs": [
    {
     "name": "stdout",
     "output_type": "stream",
     "text": [
      "{   '../../../data/test/covtype_test.red.scaled': 'Accuracy = 23.6442% (824/3485) (classification)\\n',\n",
      "    '../../../data/test/leu.t': 'Accuracy = 70.5882% (24/34) (classification)\\n',\n",
      "    '../../../data/test/leu.t.scale': 'Accuracy = 88.2353% (30/34) (classification)\\n',\n",
      "    '../../../data/test/rcv1_test.red': 'Accuracy = 79.8999% (958/1199) (classification)\\n',\n",
      "    '../../../data/test/rcv1_test.red.scale': 'Accuracy = 85.4045% (1024/1199) (classification)\\n'}\n"
     ]
    }
   ],
   "source": [
    "model_test_map = {  \"../../../data/test/leu.t\": 'pol2/leu.pol2.model',\n",
    "                    \"../../../data/test/leu.t.scale\": 'pol2/leu.scale.pol2.model',\n",
    "                    \"../../../data/test/rcv1_test.red\": 'pol2/rcv1_train.red.pol2.model',\n",
    "                    \"../../../data/test/rcv1_test.red.scale\": 'pol2/rcv1_train.red.pol2.model',\n",
    "                    \"../../../data/test/covtype_test.red.scaled\": 'pol2/covtype_train.red.scaled.pol2.model'\n",
    "                    }\n",
    "\n",
    "predictions_acc = {}\n",
    "for testfile, modelfile in model_test_map.iteritems():\n",
    "    out_name = testfile.split(\"/\")\n",
    "    out_name = \"outs/pol2/\" + out_name[len(out_name)-1] + \".out\"\n",
    "    cmd_pred= [\"../svm-predict\", testfile, modelfile, out_name]\n",
    "    res = subprocess.check_output(cmd_pred)\n",
    "    predictions_acc[testfile] = res\n",
    "    \n",
    "pp.pprint(predictions_acc)"
   ]
  },
  {
   "cell_type": "markdown",
   "metadata": {},
   "source": [
    "***Results of polynomial kernel, degree 2***"
   ]
  },
  {
   "cell_type": "markdown",
   "metadata": {},
   "source": [
    "---\n",
    "Now we train polynomial kernel, degree 3"
   ]
  },
  {
   "cell_type": "code",
   "execution_count": 17,
   "metadata": {
    "collapsed": false
   },
   "outputs": [
    {
     "name": "stdout",
     "output_type": "stream",
     "text": [
      "currently done  ../../../data/train/leu\n",
      "currently done  ../../../data/train/leu.scale\n",
      "currently done  ../../../data/train/rcv1_train.red\n",
      "currently done  ../../../data/train/rcv1_train.red.scale\n",
      "currently done  ../../../data/train/covtype_train.red.scale\n"
     ]
    }
   ],
   "source": [
    "#coarse tuning param\n",
    "\n",
    "poss_c_cor = [2 ** -8, 2 ** -4, 2 ** 0, 2 ** 2]\n",
    "poss_gamma_cor = [2 ** -8, 2 ** -4, 2 ** 0, 2 ** 2]\n",
    "poss_coeff = [2 ** -8, 2 ** -4, 2 ** 0, 2 ** 2]\n",
    "datasets = [\"../../../data/train/leu\",\n",
    "            \"../../../data/train/leu.scale\",\n",
    "            \"../../../data/train/rcv1_train.red\",\n",
    "            \"../../../data/train/rcv1_train.red.scale\",\n",
    "            \"../../../data/train/covtype_train.red.scale\"]\n",
    "\n",
    "coarse_acc = {}\n",
    "times = {}\n",
    "for dataset in datasets:\n",
    "    loc_acc_c_g = {}\n",
    "    start = time.time()\n",
    "    for c in poss_c_cor:\n",
    "        for g in poss_gamma_cor:\n",
    "            for coeff in poss_coeff:\n",
    "                cmd_cross_valid = [\"../svm-train\",\"-t\", \"1\", \"-h\", \"0\", \"-v\", str(5),\"-d\", str(3),  \"-c\", str(c), \"-g\", str(g), \"-r\", str(coeff), \"-q\", dataset]\n",
    "                pred_acc = subprocess.check_output(cmd_cross_valid)\n",
    "                loc_acc_c_g[(c,g,coeff)] = re.findall(\"[-+]?\\d+[\\.]?\\d*\", pred_acc)[0]\n",
    "    print \"currently done \", dataset\n",
    "    coarse_acc[dataset] = (loc_acc_c_g)\n",
    "    times[dataset] = time.time() - start"
   ]
  },
  {
   "cell_type": "code",
   "execution_count": 26,
   "metadata": {
    "collapsed": false,
    "scrolled": false
   },
   "outputs": [
    {
     "name": "stdout",
     "output_type": "stream",
     "text": [
      "{   '../../../data/train/covtype_train.red.scale': 290.08423614501953,\n",
      "    '../../../data/train/leu': 16.886574029922485,\n",
      "    '../../../data/train/leu.scale': 17.03380799293518,\n",
      "    '../../../data/train/rcv1_train.red': 41.516451835632324,\n",
      "    '../../../data/train/rcv1_train.red.scale': 45.22681212425232}\n",
      "../../../data/train/covtype_train.red.scale\n",
      "\t((1, 4, 0.0625), '79.3')\n",
      "../../../data/train/rcv1_train.red\n",
      "\t((1, 0.0625, 4), '91.75')\n",
      "../../../data/train/leu\n",
      "\t((4, 0.00390625, 4), '76.3158')\n",
      "../../../data/train/rcv1_train.red.scale\n",
      "\t((4, 0.00390625, 4), '90.75')\n",
      "../../../data/train/leu.scale\n",
      "\t((4, 4, 0.0625), '94.7368')\n"
     ]
    }
   ],
   "source": [
    "pp = pprint.PrettyPrinter(indent=4)\n",
    "pp.pprint(times)\n",
    "for key,value in coarse_acc.iteritems():\n",
    "    print key\n",
    "    print '\\t', sorted(value.items(), key=lambda x:x[1], reverse=True)[0]\n",
    "    #for j in sorted(value.items(), key=lambda x:x[1], reverse=True):\n",
    "    #    print '\\t',j"
   ]
  },
  {
   "cell_type": "code",
   "execution_count": 27,
   "metadata": {
    "collapsed": true
   },
   "outputs": [],
   "source": [
    "chosen_c_g = {\"../../../data/train/leu\": (4, 0.00390625, 4),\n",
    "            \"../../../data/train/leu.scale\": (4, 4, 0.0625),\n",
    "            \"../../../data/train/rcv1_train.red\": (1, 0.0625, 4),\n",
    "            \"../../../data/train/rcv1_train.red.scale\": (4, 0.00390625, 4), \n",
    "            \"../../../data/train/covtype_train.red.scale\": (1, 4, 0.0625)\n",
    "            }\n"
   ]
  },
  {
   "cell_type": "code",
   "execution_count": 28,
   "metadata": {
    "collapsed": false
   },
   "outputs": [
    {
     "name": "stdout",
     "output_type": "stream",
     "text": [
      "['', '', '', '', '']\n",
      "[   'pol2/covtype_train.red.scale.pol2.model',\n",
      "    'pol2/rcv1_train.red.pol2.model',\n",
      "    'pol2/leu.pol2.model',\n",
      "    'pol2/rcv1_train.red.scale.pol2.model',\n",
      "    'pol2/leu.scale.pol2.model']\n"
     ]
    }
   ],
   "source": [
    "models = []\n",
    "results = []\n",
    "for dataset , val in chosen_c_g.iteritems():\n",
    "    model_name = dataset.split(\"/\")\n",
    "    model_name = \"pol2/\" + model_name[len(model_name)-1] + \".pol2.model\"\n",
    "    cmd_cross_valid = [\"../svm-train\",\"-t\", \"1\", \"-h\", \"0\", \"-c\", str(val[0]), \"-g\",str(val[1]), \"-d\" , str(3), \"-r\",str(val[2]), \"-q\", dataset, model_name]\n",
    "    res = subprocess.check_output(cmd_cross_valid)\n",
    "    results.append(res)\n",
    "    models.append(model_name)\n",
    "    \n",
    "pp.pprint(results)\n",
    "pp.pprint(models)"
   ]
  },
  {
   "cell_type": "code",
   "execution_count": 29,
   "metadata": {
    "collapsed": false
   },
   "outputs": [
    {
     "name": "stdout",
     "output_type": "stream",
     "text": [
      "{   '../../../data/test/covtype_test.red.scale': 'Accuracy = 29.8433% (895/2999) (classification)\\n',\n",
      "    '../../../data/test/leu.t': 'Accuracy = 61.7647% (21/34) (classification)\\n',\n",
      "    '../../../data/test/leu.t.scale': 'Accuracy = 91.1765% (31/34) (classification)\\n',\n",
      "    '../../../data/test/rcv1_test.red': 'Accuracy = 56.7139% (680/1199) (classification)\\n',\n",
      "    '../../../data/test/rcv1_test.red.scale': 'Accuracy = 81.6514% (979/1199) (classification)\\n'}\n"
     ]
    }
   ],
   "source": [
    "model_test_map = {  \"../../../data/test/leu.t\": 'pol3/leu.pol3.model',\n",
    "                    \"../../../data/test/leu.t.scale\": 'pol3/leu.scale.pol3.model',\n",
    "                    \"../../../data/test/rcv1_test.red\": 'pol3/rcv1_train.red.pol3.model',\n",
    "                    \"../../../data/test/rcv1_test.red.scale\": 'pol3/rcv1_train.red.pol3.model',\n",
    "                    \"../../../data/test/covtype_test.red.scale\": 'pol3/covtype_train.red.scaled.pol3.model'\n",
    "                    }\n",
    "\n",
    "predictions_acc = {}\n",
    "for testfile, modelfile in model_test_map.iteritems():\n",
    "    out_name = testfile.split(\"/\")\n",
    "    out_name = \"outs/pol3/\" + out_name[len(out_name)-1] + \".out\"\n",
    "    cmd_pred= [\"../svm-predict\", testfile, modelfile, out_name]\n",
    "    res = subprocess.check_output(cmd_pred)\n",
    "    predictions_acc[testfile] = res\n",
    "    \n",
    "pp.pprint(predictions_acc)"
   ]
  },
  {
   "cell_type": "markdown",
   "metadata": {},
   "source": [
    "***These are the final results of degree 3 model***"
   ]
  },
  {
   "cell_type": "markdown",
   "metadata": {},
   "source": [
    "---\n",
    "We now do it for rbf kernel"
   ]
  },
  {
   "cell_type": "code",
   "execution_count": 33,
   "metadata": {
    "collapsed": false
   },
   "outputs": [
    {
     "name": "stdout",
     "output_type": "stream",
     "text": [
      "currently done  ../../../data/train/leu\n",
      "currently done  ../../../data/train/leu.scale\n",
      "currently done  ../../../data/train/rcv1_train.red\n",
      "currently done  ../../../data/train/rcv1_train.red.scale\n",
      "currently done  ../../../data/train/covtype_train.red.scale\n"
     ]
    }
   ],
   "source": [
    "#coarse tuning param\n",
    "\n",
    "poss_c_cor = [2 ** -8, 2 ** -6, 2 ** -4, 2 ** -2, 2 ** 0, 2 ** 2, 2 ** 4]\n",
    "poss_gamma_cor = [2 ** -8, 2 ** -6, 2 ** -4, 2 ** -2, 2 ** 0, 2 ** 2]\n",
    "datasets = [\"../../../data/train/leu\",\n",
    "            \"../../../data/train/leu.scale\",\n",
    "            \"../../../data/train/rcv1_train.red\",\n",
    "            \"../../../data/train/rcv1_train.red.scale\",\n",
    "            \"../../../data/train/covtype_train.red.scale\"]\n",
    "\n",
    "coarse_acc = {}\n",
    "times = {}\n",
    "for dataset in datasets:\n",
    "    loc_acc_c_g = {}\n",
    "    start = time.time()\n",
    "    for c in poss_c_cor:\n",
    "        for g in poss_gamma_cor:\n",
    "            cmd_cross_valid = [\"../svm-train\",\"-t\", \"2\", \"-h\", \"0\", \"-v\", str(5), \"-c\", str(c), \"-g\", str(g), \"-q\", dataset]\n",
    "            pred_acc = subprocess.check_output(cmd_cross_valid)\n",
    "            loc_acc_c_g[(c,g)] = re.findall(\"[-+]?\\d+[\\.]?\\d*\", pred_acc)[0]\n",
    "    print \"currently done \", dataset\n",
    "    coarse_acc[dataset] = (loc_acc_c_g)\n",
    "    times[dataset] = time.time() - start"
   ]
  },
  {
   "cell_type": "code",
   "execution_count": 34,
   "metadata": {
    "collapsed": false
   },
   "outputs": [
    {
     "name": "stdout",
     "output_type": "stream",
     "text": [
      "{   '../../../data/train/covtype_train.red.scale': 11.40504002571106,\n",
      "    '../../../data/train/leu': 7.796416997909546,\n",
      "    '../../../data/train/leu.scale': 9.774142026901245,\n",
      "    '../../../data/train/rcv1_train.red': 22.406476974487305,\n",
      "    '../../../data/train/rcv1_train.red.scale': 22.945279836654663}\n",
      "../../../data/train/covtype_train.red.scale\n",
      "\t((16, 4), '79.4')\n",
      "../../../data/train/rcv1_train.red\n",
      "\t((16, 0.0625), '91.5')\n",
      "../../../data/train/leu\n",
      "\t((4, 0.25), '71.0526')\n",
      "../../../data/train/rcv1_train.red.scale\n",
      "\t((16, 0.015625), '92.25')\n",
      "../../../data/train/leu.scale\n",
      "\t((4, 0.00390625), '84.2105')\n"
     ]
    }
   ],
   "source": [
    "pp = pprint.PrettyPrinter(indent=4)\n",
    "pp.pprint(times)\n",
    "for key,value in coarse_acc.iteritems():\n",
    "    print key\n",
    "    print '\\t', sorted(value.items(), key=lambda x:x[1], reverse=True)[0]\n",
    "    #for j in sorted(value.items(), key=lambda x:x[1], reverse=True):\n",
    "    #    print '\\t',j"
   ]
  },
  {
   "cell_type": "code",
   "execution_count": 35,
   "metadata": {
    "collapsed": false
   },
   "outputs": [],
   "source": [
    "chosen_c_g = {\"../../../data/train/leu\": (4, 0.00390625),\n",
    "            \"../../../data/train/leu.scale\": (0.25, 0.25),\n",
    "            \"../../../data/train/rcv1_train.red\": (16,0.0625),\n",
    "            \"../../../data/train/rcv1_train.red.scale\": (16, 0.015625), \n",
    "            \"../../../data/train/covtype_train.red.scale\": (16,4)\n",
    "            }"
   ]
  },
  {
   "cell_type": "code",
   "execution_count": 36,
   "metadata": {
    "collapsed": false
   },
   "outputs": [
    {
     "name": "stdout",
     "output_type": "stream",
     "text": [
      "['', '', '', '', '']\n",
      "[   'rbf/covtype_train.red.scale.rbf.model',\n",
      "    'rbf/rcv1_train.red.rbf.model',\n",
      "    'rbf/leu.rbf.model',\n",
      "    'rbf/rcv1_train.red.scale.rbf.model',\n",
      "    'rbf/leu.scale.rbf.model']\n"
     ]
    }
   ],
   "source": [
    "models = []\n",
    "results = []\n",
    "for dataset , val in chosen_c_g.iteritems():\n",
    "    model_name = dataset.split(\"/\")\n",
    "    model_name = \"rbf/\" + model_name[len(model_name)-1] + \".rbf.model\"\n",
    "    cmd_cross_valid = [\"../svm-train\",\"-t\", \"2\", \"-h\", \"0\", \"-c\", str(val[0]), \"-g\",str(val[1]), \"-q\", dataset, model_name]\n",
    "    res = subprocess.check_output(cmd_cross_valid)\n",
    "    results.append(res)\n",
    "    models.append(model_name)\n",
    "    \n",
    "pp.pprint(results)\n",
    "pp.pprint(models)"
   ]
  },
  {
   "cell_type": "code",
   "execution_count": 37,
   "metadata": {
    "collapsed": false
   },
   "outputs": [
    {
     "name": "stdout",
     "output_type": "stream",
     "text": [
      "{   '../../../data/test/covtype_test.red.scale': 'Accuracy = 31.5438% (946/2999) (classification)\\n',\n",
      "    '../../../data/test/leu.t': 'Accuracy = 58.8235% (20/34) (classification)\\n',\n",
      "    '../../../data/test/leu.t.scale': 'Accuracy = 58.8235% (20/34) (classification)\\n',\n",
      "    '../../../data/test/rcv1_test.red': 'Accuracy = 79.2327% (950/1199) (classification)\\n',\n",
      "    '../../../data/test/rcv1_test.red.scale': 'Accuracy = 82.2352% (986/1199) (classification)\\n'}\n"
     ]
    }
   ],
   "source": [
    "model_test_map = {  \"../../../data/test/leu.t\": 'rbf/leu.rbf.model',\n",
    "                    \"../../../data/test/leu.t.scale\": 'rbf/leu.scale.rbf.model',\n",
    "                    \"../../../data/test/rcv1_test.red\": 'rbf/rcv1_train.red.rbf.model',\n",
    "                    \"../../../data/test/rcv1_test.red.scale\": 'rbf/rcv1_train.red.rbf.model',\n",
    "                    \"../../../data/test/covtype_test.red.scale\": 'rbf/covtype_train.red.scaled.rbf.model'\n",
    "                    }\n",
    "\n",
    "predictions_acc = {}\n",
    "for testfile, modelfile in model_test_map.iteritems():\n",
    "    out_name = testfile.split(\"/\")\n",
    "    out_name = \"outs/rbf/\" + out_name[len(out_name)-1] + \".out\"\n",
    "    cmd_pred= [\"../svm-predict\", testfile, modelfile, out_name]\n",
    "    res = subprocess.check_output(cmd_pred)\n",
    "    predictions_acc[testfile] = res\n",
    "    \n",
    "pp.pprint(predictions_acc)"
   ]
  },
  {
   "cell_type": "markdown",
   "metadata": {},
   "source": [
    "*** These are the final results of the rbf kernel ***"
   ]
  }
 ],
 "metadata": {
  "kernelspec": {
   "display_name": "Python 2",
   "language": "python",
   "name": "python2"
  },
  "language_info": {
   "codemirror_mode": {
    "name": "ipython",
    "version": 2
   },
   "file_extension": ".py",
   "mimetype": "text/x-python",
   "name": "python",
   "nbconvert_exporter": "python",
   "pygments_lexer": "ipython2",
   "version": "2.7.10"
  }
 },
 "nbformat": 4,
 "nbformat_minor": 0
}
