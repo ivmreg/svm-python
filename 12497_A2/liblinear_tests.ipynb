{
 "cells": [
  {
   "cell_type": "code",
   "execution_count": 1,
   "metadata": {
    "collapsed": true
   },
   "outputs": [],
   "source": [
    "import subprocess\n",
    "import pprint\n",
    "import re"
   ]
  },
  {
   "cell_type": "markdown",
   "metadata": {},
   "source": [
    "First, we will learn the parameters (here, C) for testing the models\n",
    "\n",
    "**Note:** \n",
    "* Scaled as well as unscaled models are saved in the relevant folder \n",
    "* 5 fold cross validation used"
   ]
  },
  {
   "cell_type": "code",
   "execution_count": 2,
   "metadata": {
    "collapsed": false
   },
   "outputs": [],
   "source": [
    "#coarse tuning param\n",
    "\n",
    "poss_c_cor = [2 ** -8, 2 ** -6, 2 ** -4, 2 ** -2, 2 ** 0, 2 ** 2, 2 ** 4]\n",
    "datasets = [\"../../../data/train/leu\",\n",
    "            \"../../../data/train/leu.scale\",\n",
    "            \"../../../data/train/rcv1_train.binary\",\n",
    "            \"../../../data/train/rcv1_train.binary.scale\",\n",
    "            \"../../../data/train/covtype_train.scale\"]\n",
    "\n",
    "coarse_acc = {}\n",
    "for dataset in datasets:\n",
    "    loc_acc_c = {}\n",
    "    for c in poss_c_cor:\n",
    "            cmd_cross_valid = [\"../train\", \"-v\", str(5),  \"-c\", str(c), \"-q\", dataset]\n",
    "            pred_acc = subprocess.check_output(cmd_cross_valid)\n",
    "            loc_acc_c[c] = pred_acc\n",
    "    coarse_acc[dataset] = (loc_acc_c)"
   ]
  },
  {
   "cell_type": "code",
   "execution_count": 3,
   "metadata": {
    "collapsed": false
   },
   "outputs": [
    {
     "name": "stdout",
     "output_type": "stream",
     "text": [
      "{   '../../../data/train/covtype_train.scale': {   0.00390625: '78.0678',\n",
      "                                                   0.015625: '78.0744',\n",
      "                                                   0.0625: '78.0695',\n",
      "                                                   0.25: '78.0686',\n",
      "                                                   1: '78.0688',\n",
      "                                                   4: '78.0811',\n",
      "                                                   16: '78.0751'},\n",
      "    '../../../data/train/leu': {   0.00390625: '94.7368',\n",
      "                                   0.015625: '94.7368',\n",
      "                                   0.0625: '94.7368',\n",
      "                                   0.25: '94.7368',\n",
      "                                   1: '94.7368',\n",
      "                                   4: '94.7368',\n",
      "                                   16: '94.7368'},\n",
      "    '../../../data/train/leu.scale': {   0.00390625: '86.8421',\n",
      "                                         0.015625: '92.1053',\n",
      "                                         0.0625: '92.1053',\n",
      "                                         0.25: '92.1053',\n",
      "                                         1: '94.7368',\n",
      "                                         4: '94.7368',\n",
      "                                         16: '94.7368'},\n",
      "    '../../../data/train/rcv1_train.binary': {   0.00390625: '93.8593',\n",
      "                                                 0.015625: '95.0795',\n",
      "                                                 0.0625: '96.2405',\n",
      "                                                 0.25: '96.9222',\n",
      "                                                 1: '97.0803',\n",
      "                                                 4: '96.858',\n",
      "                                                 16: '96.5715'},\n",
      "    '../../../data/train/rcv1_train.binary.scale': {   0.00390625: '95.6773',\n",
      "                                                       0.015625: '96.5616',\n",
      "                                                       0.0625: '96.9963',\n",
      "                                                       0.25: '96.8481',\n",
      "                                                       1: '96.7197',\n",
      "                                                       4: '96.443',\n",
      "                                                       16: '96.0379'}}\n"
     ]
    }
   ],
   "source": [
    "for key, value in coarse_acc.iteritems():\n",
    "    temp = value\n",
    "    for k, acc in temp.iteritems():\n",
    "        temp[k] = re.findall(\"[-+]?\\d+[\\.]?\\d*\", acc)[0]\n",
    "pp = pprint.PrettyPrinter(indent=4)\n",
    "pp.pprint(coarse_acc)"
   ]
  },
  {
   "cell_type": "code",
   "execution_count": 4,
   "metadata": {
    "collapsed": false
   },
   "outputs": [],
   "source": [
    "fine_tuning_c = {\"../../../data/train/leu.scale\":[0.25, 1],\n",
    "                 \"../../../data/train/rcv1_train.binary\":[0.25,1],\n",
    "                 \"../../../data/train/rcv1_train.binary.scale\": [0.015625, 0.0625]\n",
    "                 }\n",
    "fine_acc = {}\n",
    "for dataset , val in fine_tuning_c.iteritems():\n",
    "    a = val[0]*2\n",
    "    req_ran = []\n",
    "    while a < val[1]:\n",
    "        req_ran.append(a)\n",
    "        a*=2\n",
    "    loc_acc_c = {}\n",
    "    for c in req_ran:\n",
    "            cmd_cross_valid = [\"../train\", \"-v\", str(5),  \"-c\", str(c), \"-q\", dataset]\n",
    "            pred_acc = subprocess.check_output(cmd_cross_valid)\n",
    "            loc_acc_c[c] = pred_acc\n",
    "    fine_acc[dataset] = (loc_acc_c)         "
   ]
  },
  {
   "cell_type": "code",
   "execution_count": 5,
   "metadata": {
    "collapsed": false
   },
   "outputs": [
    {
     "name": "stdout",
     "output_type": "stream",
     "text": [
      "{   '../../../data/train/leu.scale': {   0.5: '94.7368'},\n",
      "    '../../../data/train/rcv1_train.binary': {   0.5: '97.0457'},\n",
      "    '../../../data/train/rcv1_train.binary.scale': {   0.03125: '96.8481'}}\n"
     ]
    }
   ],
   "source": [
    "for key, value in fine_acc.iteritems():\n",
    "    temp = value\n",
    "    for k, acc in temp.iteritems():\n",
    "        temp[k] = re.findall(\"[-+]?\\d+[\\.]?\\d*\", acc)[0]\n",
    "\n",
    "pp.pprint(fine_acc)"
   ]
  },
  {
   "cell_type": "markdown",
   "metadata": {},
   "source": [
    "With the coarse and fine tuning, we have learnt c, now we test"
   ]
  },
  {
   "cell_type": "code",
   "execution_count": 6,
   "metadata": {
    "collapsed": true
   },
   "outputs": [],
   "source": [
    "chosen_c = {\"../../../data/train/leu\": 0.25,\n",
    "            \"../../../data/train/leu.scale\": 0.5,\n",
    "            \"../../../data/train/rcv1_train.binary\": 1,\n",
    "            \"../../../data/train/rcv1_train.binary.scale\": 0.0625 ,\n",
    "            \"../../../data/train/covtype_train.scale\": 0.015625\n",
    "            }"
   ]
  },
  {
   "cell_type": "markdown",
   "metadata": {},
   "source": [
    "With these parameters, we build models"
   ]
  },
  {
   "cell_type": "code",
   "execution_count": 7,
   "metadata": {
    "collapsed": false
   },
   "outputs": [
    {
     "name": "stdout",
     "output_type": "stream",
     "text": [
      "[   '.*\\noptimization finished, #iter = 12\\nObjective value = -1412.358201\\nnSV = 7019\\n',\n",
      "    '*\\noptimization finished, #iter = 9\\nObjective value = -0.002431\\nnSV = 32\\n',\n",
      "    '....**.*\\noptimization finished, #iter = 51\\nObjective value = -0.031492\\nnSV = 30\\n',\n",
      "    '*.\\noptimization finished, #iter = 10\\nObjective value = -108.791377\\nnSV = 7565\\n',\n",
      "    '*\\noptimization finished, #iter = 6\\nObjective value = -4706.274963\\nnSV = 414579\\n']\n",
      "[   'rcv1_train.binary.model',\n",
      "    'leu.model',\n",
      "    'leu.scale.model',\n",
      "    'rcv1_train.binary.scale.model',\n",
      "    'covtype_train.scale.model']\n"
     ]
    }
   ],
   "source": [
    "models = []\n",
    "results = []\n",
    "for dataset , val in chosen_c.iteritems():\n",
    "    model_name = dataset.split(\"/\")\n",
    "    model_name = model_name[len(model_name)-1] + \".model\"\n",
    "    cmd_cross_valid = [\"../train\", \"-c\", str(val), dataset, model_name]\n",
    "    res = subprocess.check_output(cmd_cross_valid)\n",
    "    results.append(res)\n",
    "    models.append(model_name)\n",
    "    \n",
    "pp.pprint(results)\n",
    "pp.pprint(models)"
   ]
  },
  {
   "cell_type": "markdown",
   "metadata": {},
   "source": [
    "Now we run test with these models"
   ]
  },
  {
   "cell_type": "code",
   "execution_count": 8,
   "metadata": {
    "collapsed": false
   },
   "outputs": [
    {
     "name": "stdout",
     "output_type": "stream",
     "text": [
      "{   '../../../data/test/covtype_test.scale': 'Accuracy = 63.3655% (73632/116202)\\n',\n",
      "    '../../../data/test/leu.t': 'Accuracy = 79.4118% (27/34)\\n',\n",
      "    '../../../data/test/leu.t.scale': 'Accuracy = 88.2353% (30/34)\\n',\n",
      "    '../../../data/test/rcv1_test.binary': 'Accuracy = 96.1581% (651374/677399)\\n',\n",
      "    '../../../data/test/rcv1_test.binary.scale': 'Accuracy = 96.0518% (650654/677399)\\n'}\n"
     ]
    }
   ],
   "source": [
    "model_test_map = {  \"../../../data/test/leu.t\": 'leu.model',\n",
    "                    \"../../../data/test/leu.t.scale\": 'leu.scale.model',\n",
    "                    \"../../../data/test/rcv1_test.binary\": 'rcv1_train.binary.model',\n",
    "                    \"../../../data/test/rcv1_test.binary.scale\": 'rcv1_train.binary.scale.model',\n",
    "                    \"../../../data/test/covtype_test.scale\": 'covtype_train.scale.model'\n",
    "                    }\n",
    "\n",
    "predictions_acc = {}\n",
    "for testfile, modelfile in model_test_map.iteritems():\n",
    "    out_name = testfile.split(\"/\")\n",
    "    out_name = \"outs/\" + out_name[len(out_name)-1] + \".out\"\n",
    "    cmd_pred= [\"../predict\", testfile, modelfile, out_name]\n",
    "    res = subprocess.check_output(cmd_pred)\n",
    "    predictions_acc[testfile] = res\n",
    "    \n",
    "pp.pprint(predictions_acc)"
   ]
  },
  {
   "cell_type": "markdown",
   "metadata": {},
   "source": [
    "**These are the final model results**\n",
    "\n",
    "The discrepancy in rcv1_scale is probably because of missing columns in dataset while scaling"
   ]
  }
 ],
 "metadata": {
  "kernelspec": {
   "display_name": "Python 2",
   "language": "python",
   "name": "python2"
  },
  "language_info": {
   "codemirror_mode": {
    "name": "ipython",
    "version": 2
   },
   "file_extension": ".py",
   "mimetype": "text/x-python",
   "name": "python",
   "nbconvert_exporter": "python",
   "pygments_lexer": "ipython2",
   "version": "2.7.10"
  }
 },
 "nbformat": 4,
 "nbformat_minor": 0
}
