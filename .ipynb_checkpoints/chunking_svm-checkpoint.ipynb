{
 "cells": [
  {
   "cell_type": "raw",
   "metadata": {},
   "source": [
    "Import the libraries"
   ]
  },
  {
   "cell_type": "code",
   "execution_count": 1,
   "metadata": {
    "collapsed": false
   },
   "outputs": [],
   "source": [
    "from sklearn.datasets import load_svmlight_file\n",
    "from scipy.spatial.distance import *\n",
    "from sklearn.metrics.pairwise import *\n",
    "import numpy as np\n",
    "from cvxopt import matrix, solvers\n"
   ]
  },
  {
   "cell_type": "code",
   "execution_count": 2,
   "metadata": {
    "collapsed": false
   },
   "outputs": [],
   "source": [
    "def compute_full_H(xs, ys): \n",
    "    \"\"\"\n",
    "    Computes the matrix H in 1/2 a'Ha - e`a\n",
    "    Uses kernel as metric\n",
    "    Assumes data is scaled\n",
    "    \"\"\"\n",
    "    yixi = [a*b for a,b in zip(ys,xs)]\n",
    "    return linear_kernel(yixi)"
   ]
  },
  {
   "cell_type": "code",
   "execution_count": 3,
   "metadata": {
    "collapsed": false
   },
   "outputs": [],
   "source": [
    "def stopping_criteria_1(As, c, w, xs, ys):\n",
    "    if ty == 1: # stopping criterion 1\n",
    "        return true\n",
    "    return false"
   ]
  },
  {
   "cell_type": "code",
   "execution_count": 4,
   "metadata": {
    "collapsed": false
   },
   "outputs": [],
   "source": [
    "#train_file = raw_input(\"Enter training file path\")\n",
    "#c specified as 0.1\n",
    "#x_train, y_train = load_svmlight_file(train_file)\n",
    "x_train, y_train = load_svmlight_file(\"data/train/leu\")\n",
    "c = 0.1\n",
    "xs = x_train.toarray()\n",
    "ys = y_train"
   ]
  },
  {
   "cell_type": "markdown",
   "metadata": {},
   "source": [
    "Initialise QP vars\n",
    "\n",
    "Only compute the set of rows necessary, not the full matrix P\n",
    "If you want efficiency (assuming row computation is fast) and memoize it\n",
    "Current implementation O(dn^2)\n",
    "```\n",
    "Full solution\n",
    "P= matrix(P)\n",
    "q = matrix(np.ones(len(xs))) \n",
    "confirm this works\n",
    "else use np.ones((len(xs),1))\n",
    "G = matrix(np.eye(len(xs[0]), len(xs)))\n",
    "h = matrix(c * np.ones(len(xs[0])))\n",
    "A = matrix(np.transpose(ys[np.newaxis].T))\n",
    "b = matrix(0.0)\n",
    "```"
   ]
  },
  {
   "cell_type": "code",
   "execution_count": 18,
   "metadata": {
    "collapsed": false
   },
   "outputs": [],
   "source": [
    "P = compute_full_H(xs, ys)\n"
   ]
  },
  {
   "cell_type": "markdown",
   "metadata": {},
   "source": [
    "** Chunking algorithm **"
   ]
  },
  {
   "cell_type": "code",
   "execution_count": 15,
   "metadata": {
    "collapsed": false
   },
   "outputs": [],
   "source": [
    "#ai = solvers.qp(P, q, G, h, A, b) #full solution\n",
    "#initialise ai \n",
    "i = 1 # number of iterations so far\n",
    "Si = np.random.choice([0, 1], size=(len(xs)), p=[0.9, 0.1]) # only 10% expected to be \n",
    "P?"
   ]
  },
  {
   "cell_type": "code",
   "execution_count": 9,
   "metadata": {
    "collapsed": false
   },
   "outputs": [
    {
     "name": "stdout",
     "output_type": "stream",
     "text": [
      "[-2.23e-05]\n",
      "[-1.55e-04]\n",
      "[-2.67e-06]\n",
      "[-6.72e-05]\n",
      "[-4.97e-05]\n",
      "[ 6.02e-06]\n",
      "[-1.23e-04]\n",
      "[-9.34e-05]\n",
      "[-4.90e-05]\n",
      "[-1.52e-04]\n",
      "[-8.26e-05]\n",
      "[-2.40e-04]\n",
      "[ 6.42e-05]\n",
      "[-4.45e-05]\n",
      "[ 6.93e-05]\n",
      "[ 9.24e-06]\n",
      "[-6.54e-05]\n",
      "[-9.44e-05]\n",
      "[-1.58e-04]\n",
      "[ 3.22e-05]\n",
      "[ 1.67e-05]\n",
      "[-1.09e-04]\n",
      "[-2.72e-05]\n",
      "[-7.03e-05]\n",
      "[-1.80e-04]\n",
      "[-7.98e-05]\n",
      "[ 1.16e-05]\n",
      "[-2.18e-04]\n",
      "[-3.63e-04]\n",
      "[-4.40e-05]\n",
      "[-2.38e-04]\n",
      "[-1.85e-04]\n",
      "[ 2.75e-05]\n",
      "[-1.24e-04]\n",
      "[-3.37e-04]\n",
      "[-5.07e-05]\n",
      "[ 1.94e-05]\n",
      "[-1.43e-04]\n",
      "\n"
     ]
    }
   ],
   "source": [
    "print ai['x']"
   ]
  },
  {
   "cell_type": "code",
   "execution_count": null,
   "metadata": {
    "collapsed": true
   },
   "outputs": [],
   "source": [
    "def get_w_from_alpha(alphas, xs, ys):\n",
    "    \"\"\"\n",
    "    Generate the weight vector for testing\n",
    "    \"\"\"\n",
    "    "
   ]
  }
 ],
 "metadata": {
  "kernelspec": {
   "display_name": "Python 2",
   "language": "python",
   "name": "python2"
  },
  "language_info": {
   "codemirror_mode": {
    "name": "ipython",
    "version": 2
   },
   "file_extension": ".py",
   "mimetype": "text/x-python",
   "name": "python",
   "nbconvert_exporter": "python",
   "pygments_lexer": "ipython2",
   "version": "2.7.10"
  }
 },
 "nbformat": 4,
 "nbformat_minor": 0
}
